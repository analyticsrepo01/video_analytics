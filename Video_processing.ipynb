{
 "cells": [
  {
   "cell_type": "code",
   "execution_count": 5,
   "id": "15d18801-0902-4f1d-a2b0-5790387b1c64",
   "metadata": {},
   "outputs": [],
   "source": [
    "!"
   ]
  },
  {
   "cell_type": "code",
   "execution_count": 6,
   "id": "1e8e15e4-340e-4530-9983-8b5c883971fc",
   "metadata": {},
   "outputs": [],
   "source": [
    "!pip install moviepy -q\n"
   ]
  },
  {
   "cell_type": "code",
   "execution_count": 7,
   "id": "90e03205-adaf-4922-84cb-08cd23922b6f",
   "metadata": {},
   "outputs": [
    {
     "name": "stdout",
     "output_type": "stream",
     "text": [
      " Video_processing.ipynb\t\t\t       data\n",
      "'YP183A Sweeper Front Cam-16Feb_Correct.mp4'   output.mp4\n",
      "'YP183A Sweeper Front Cam-22Feb_Correct.mp4'   untitled.txt\n"
     ]
    }
   ],
   "source": [
    "!ls"
   ]
  },
  {
   "cell_type": "code",
   "execution_count": null,
   "id": "ab1a6b8a-270d-4521-98d4-b8e7a35cc8b8",
   "metadata": {},
   "outputs": [],
   "source": []
  },
  {
   "cell_type": "code",
   "execution_count": 1,
   "id": "04a1add9-5df5-4374-8e35-426261500ac0",
   "metadata": {},
   "outputs": [
    {
     "name": "stdout",
     "output_type": "stream",
     "text": [
      "Moviepy - Running:\n",
      ">>> \"+ \" \".join(cmd)\n",
      "Moviepy - Command returned an error\n"
     ]
    },
    {
     "ename": "OSError",
     "evalue": "ffmpeg version 4.2.2-static https://johnvansickle.com/ffmpeg/  Copyright (c) 2000-2019 the FFmpeg developers\n  built with gcc 8 (Debian 8.3.0-6)\n  configuration: --enable-gpl --enable-version3 --enable-static --disable-debug --disable-ffplay --disable-indev=sndio --disable-outdev=sndio --cc=gcc --enable-fontconfig --enable-frei0r --enable-gnutls --enable-gmp --enable-libgme --enable-gray --enable-libaom --enable-libfribidi --enable-libass --enable-libvmaf --enable-libfreetype --enable-libmp3lame --enable-libopencore-amrnb --enable-libopencore-amrwb --enable-libopenjpeg --enable-librubberband --enable-libsoxr --enable-libspeex --enable-libsrt --enable-libvorbis --enable-libopus --enable-libtheora --enable-libvidstab --enable-libvo-amrwbenc --enable-libvpx --enable-libwebp --enable-libx264 --enable-libx265 --enable-libxml2 --enable-libdav1d --enable-libxvid --enable-libzvbi --enable-libzimg\n  libavutil      56. 31.100 / 56. 31.100\n  libavcodec     58. 54.100 / 58. 54.100\n  libavformat    58. 29.100 / 58. 29.100\n  libavdevice    58.  8.100 / 58.  8.100\n  libavfilter     7. 57.100 /  7. 57.100\n  libswscale      5.  5.100 /  5.  5.100\n  libswresample   3.  5.100 /  3.  5.100\n  libpostproc    55.  5.100 / 55.  5.100\n./538438_6.mp4: No such file or directory\n",
     "output_type": "error",
     "traceback": [
      "\u001b[0;31m---------------------------------------------------------------------------\u001b[0m",
      "\u001b[0;31mOSError\u001b[0m                                   Traceback (most recent call last)",
      "\u001b[0;32m/tmp/ipykernel_24182/2521891333.py\u001b[0m in \u001b[0;36m<module>\u001b[0;34m\u001b[0m\n\u001b[1;32m      4\u001b[0m \u001b[0mfilename\u001b[0m \u001b[0;34m=\u001b[0m \u001b[0;34m\"538438_6.mp4\"\u001b[0m\u001b[0;34m\u001b[0m\u001b[0;34m\u001b[0m\u001b[0m\n\u001b[1;32m      5\u001b[0m \u001b[0mpath\u001b[0m \u001b[0;34m=\u001b[0m \u001b[0;34m\"./\"\u001b[0m\u001b[0;34m\u001b[0m\u001b[0;34m\u001b[0m\u001b[0m\n\u001b[0;32m----> 6\u001b[0;31m \u001b[0mffmpeg_extract_subclip\u001b[0m\u001b[0;34m(\u001b[0m\u001b[0mpath\u001b[0m \u001b[0;34m+\u001b[0m \u001b[0mfilename\u001b[0m\u001b[0;34m,\u001b[0m \u001b[0;36m0\u001b[0m\u001b[0;34m,\u001b[0m \u001b[0;36m10\u001b[0m\u001b[0;34m,\u001b[0m \u001b[0mtargetname\u001b[0m \u001b[0;34m=\u001b[0m \u001b[0;34m\"output.mp4\"\u001b[0m\u001b[0;34m)\u001b[0m\u001b[0;34m\u001b[0m\u001b[0;34m\u001b[0m\u001b[0m\n\u001b[0m\u001b[1;32m      7\u001b[0m \u001b[0;34m\u001b[0m\u001b[0m\n\u001b[1;32m      8\u001b[0m \u001b[0mVideo\u001b[0m\u001b[0;34m(\u001b[0m\u001b[0;34m\"output.mp4\"\u001b[0m\u001b[0;34m,\u001b[0m \u001b[0mwidth\u001b[0m\u001b[0;34m=\u001b[0m\u001b[0;36m800\u001b[0m\u001b[0;34m,\u001b[0m \u001b[0membed\u001b[0m\u001b[0;34m=\u001b[0m\u001b[0;32mTrue\u001b[0m\u001b[0;34m)\u001b[0m\u001b[0;34m\u001b[0m\u001b[0;34m\u001b[0m\u001b[0m\n",
      "\u001b[0;32m/opt/conda/lib/python3.7/site-packages/moviepy/video/io/ffmpeg_tools.py\u001b[0m in \u001b[0;36mffmpeg_extract_subclip\u001b[0;34m(filename, t1, t2, targetname)\u001b[0m\n\u001b[1;32m     39\u001b[0m            \"-map\", \"0\", \"-vcodec\", \"copy\", \"-acodec\", \"copy\", targetname]\n\u001b[1;32m     40\u001b[0m \u001b[0;34m\u001b[0m\u001b[0m\n\u001b[0;32m---> 41\u001b[0;31m     \u001b[0msubprocess_call\u001b[0m\u001b[0;34m(\u001b[0m\u001b[0mcmd\u001b[0m\u001b[0;34m)\u001b[0m\u001b[0;34m\u001b[0m\u001b[0;34m\u001b[0m\u001b[0m\n\u001b[0m\u001b[1;32m     42\u001b[0m \u001b[0;34m\u001b[0m\u001b[0m\n\u001b[1;32m     43\u001b[0m \u001b[0;34m\u001b[0m\u001b[0m\n",
      "\u001b[0;32m/opt/conda/lib/python3.7/site-packages/moviepy/tools.py\u001b[0m in \u001b[0;36msubprocess_call\u001b[0;34m(cmd, logger, errorprint)\u001b[0m\n\u001b[1;32m     52\u001b[0m         \u001b[0;32mif\u001b[0m \u001b[0merrorprint\u001b[0m\u001b[0;34m:\u001b[0m\u001b[0;34m\u001b[0m\u001b[0;34m\u001b[0m\u001b[0m\n\u001b[1;32m     53\u001b[0m             \u001b[0mlogger\u001b[0m\u001b[0;34m(\u001b[0m\u001b[0mmessage\u001b[0m\u001b[0;34m=\u001b[0m\u001b[0;34m'Moviepy - Command returned an error'\u001b[0m\u001b[0;34m)\u001b[0m\u001b[0;34m\u001b[0m\u001b[0;34m\u001b[0m\u001b[0m\n\u001b[0;32m---> 54\u001b[0;31m         \u001b[0;32mraise\u001b[0m \u001b[0mIOError\u001b[0m\u001b[0;34m(\u001b[0m\u001b[0merr\u001b[0m\u001b[0;34m.\u001b[0m\u001b[0mdecode\u001b[0m\u001b[0;34m(\u001b[0m\u001b[0;34m'utf8'\u001b[0m\u001b[0;34m)\u001b[0m\u001b[0;34m)\u001b[0m\u001b[0;34m\u001b[0m\u001b[0;34m\u001b[0m\u001b[0m\n\u001b[0m\u001b[1;32m     55\u001b[0m     \u001b[0;32melse\u001b[0m\u001b[0;34m:\u001b[0m\u001b[0;34m\u001b[0m\u001b[0;34m\u001b[0m\u001b[0m\n\u001b[1;32m     56\u001b[0m         \u001b[0mlogger\u001b[0m\u001b[0;34m(\u001b[0m\u001b[0mmessage\u001b[0m\u001b[0;34m=\u001b[0m\u001b[0;34m'Moviepy - Command successful'\u001b[0m\u001b[0;34m)\u001b[0m\u001b[0;34m\u001b[0m\u001b[0;34m\u001b[0m\u001b[0m\n",
      "\u001b[0;31mOSError\u001b[0m: ffmpeg version 4.2.2-static https://johnvansickle.com/ffmpeg/  Copyright (c) 2000-2019 the FFmpeg developers\n  built with gcc 8 (Debian 8.3.0-6)\n  configuration: --enable-gpl --enable-version3 --enable-static --disable-debug --disable-ffplay --disable-indev=sndio --disable-outdev=sndio --cc=gcc --enable-fontconfig --enable-frei0r --enable-gnutls --enable-gmp --enable-libgme --enable-gray --enable-libaom --enable-libfribidi --enable-libass --enable-libvmaf --enable-libfreetype --enable-libmp3lame --enable-libopencore-amrnb --enable-libopencore-amrwb --enable-libopenjpeg --enable-librubberband --enable-libsoxr --enable-libspeex --enable-libsrt --enable-libvorbis --enable-libopus --enable-libtheora --enable-libvidstab --enable-libvo-amrwbenc --enable-libvpx --enable-libwebp --enable-libx264 --enable-libx265 --enable-libxml2 --enable-libdav1d --enable-libxvid --enable-libzvbi --enable-libzimg\n  libavutil      56. 31.100 / 56. 31.100\n  libavcodec     58. 54.100 / 58. 54.100\n  libavformat    58. 29.100 / 58. 29.100\n  libavdevice    58.  8.100 / 58.  8.100\n  libavfilter     7. 57.100 /  7. 57.100\n  libswscale      5.  5.100 /  5.  5.100\n  libswresample   3.  5.100 /  3.  5.100\n  libpostproc    55.  5.100 / 55.  5.100\n./538438_6.mp4: No such file or directory\n"
     ]
    }
   ],
   "source": [
    "from moviepy.video.io.ffmpeg_tools import ffmpeg_extract_subclip\n",
    "from IPython.display import Video\n",
    "\n",
    "filename = \"538438_6.mp4\"\n",
    "path = \"./\"\n",
    "ffmpeg_extract_subclip(path + filename, 0, 10, targetname = \"output.mp4\")\n",
    "    \n",
    "Video(\"output.mp4\", width=800, embed=True)"
   ]
  },
  {
   "cell_type": "code",
   "execution_count": 2,
   "id": "c72de15c-3032-4fa0-ace0-302ec051a056",
   "metadata": {},
   "outputs": [
    {
     "name": "stdout",
     "output_type": "stream",
     "text": [
      "ffmpeg version 4.1.9-0+deb10u1 Copyright (c) 2000-2022 the FFmpeg developers\n",
      "  built with gcc 8 (Debian 8.3.0-6)\n",
      "  configuration: --prefix=/usr --extra-version=0+deb10u1 --toolchain=hardened --libdir=/usr/lib/x86_64-linux-gnu --incdir=/usr/include/x86_64-linux-gnu --arch=amd64 --enable-gpl --disable-stripping --enable-avresample --disable-filter=resample --enable-avisynth --enable-gnutls --enable-ladspa --enable-libaom --enable-libass --enable-libbluray --enable-libbs2b --enable-libcaca --enable-libcdio --enable-libcodec2 --enable-libflite --enable-libfontconfig --enable-libfreetype --enable-libfribidi --enable-libgme --enable-libgsm --enable-libjack --enable-libmp3lame --enable-libmysofa --enable-libopenjpeg --enable-libopenmpt --enable-libopus --enable-libpulse --enable-librsvg --enable-librubberband --enable-libshine --enable-libsnappy --enable-libsoxr --enable-libspeex --enable-libssh --enable-libtheora --enable-libtwolame --enable-libvidstab --enable-libvorbis --enable-libvpx --enable-libwavpack --enable-libwebp --enable-libx265 --enable-libxml2 --enable-libxvid --enable-libzmq --enable-libzvbi --enable-lv2 --enable-omx --enable-openal --enable-opengl --enable-sdl2 --enable-libdc1394 --enable-libdrm --enable-libiec61883 --enable-chromaprint --enable-frei0r --enable-libx264 --enable-shared\n",
      "  libavutil      56. 22.100 / 56. 22.100\n",
      "  libavcodec     58. 35.100 / 58. 35.100\n",
      "  libavformat    58. 20.100 / 58. 20.100\n",
      "  libavdevice    58.  5.100 / 58.  5.100\n",
      "  libavfilter     7. 40.101 /  7. 40.101\n",
      "  libavresample   4.  0.  0 /  4.  0.  0\n",
      "  libswscale      5.  3.100 /  5.  3.100\n",
      "  libswresample   3.  3.100 /  3.  3.100\n",
      "  libpostproc    55.  3.100 / 55.  3.100\n",
      "\u001b[0;33mTrailing options were found on the commandline.\n",
      "\u001b[0m\u001b[1;31mouput.mp4: No such file or directory\n",
      "\u001b[0m"
     ]
    }
   ],
   "source": [
    "!ffmpeg -i ouput.mp4 -f ffmetadata \n"
   ]
  },
  {
   "cell_type": "markdown",
   "id": "6c1c1aae-3196-4e40-923d-f09ed1cdc972",
   "metadata": {},
   "source": [
    "### Change Frame Rate"
   ]
  },
  {
   "cell_type": "code",
   "execution_count": 5,
   "id": "1bbc5a5b-3a09-45a0-9168-3ceff1bb2acd",
   "metadata": {},
   "outputs": [],
   "source": [
    "import cv2 \n",
    "def getFrame(sec): \n",
    "    vidcap = cv2.VideoCapture('ouput.mp4') \n",
    "    vidcap.set(cv2.CAP_PROP_POS_MSEC,sec*1000) \n",
    "    hasFrames,image = vidcap.read() \n",
    "    if hasFrames: \n",
    "        cv2.imwrite(\"frame \"+str(sec)+\" sec.jpg\", image)     # save frame as JPG file \n",
    "    return hasFrames \n",
    "sec = 0 \n",
    "frameRate = 0.5 #//it will capture image in each 0.5 second \n",
    "success = getFrame(sec) \n",
    "while success: \n",
    "    sec = sec + frameRate \n",
    "    sec = round(sec, 2) \n",
    "    success = getFrame(sec) \n"
   ]
  },
  {
   "cell_type": "code",
   "execution_count": 8,
   "id": "235d436b-7943-4218-829f-378fbf48cacb",
   "metadata": {},
   "outputs": [
    {
     "name": "stdout",
     "output_type": "stream",
     "text": [
      "ffmpeg version 4.1.9-0+deb10u1 Copyright (c) 2000-2022 the FFmpeg developers\n",
      "  built with gcc 8 (Debian 8.3.0-6)\n",
      "  configuration: --prefix=/usr --extra-version=0+deb10u1 --toolchain=hardened --libdir=/usr/lib/x86_64-linux-gnu --incdir=/usr/include/x86_64-linux-gnu --arch=amd64 --enable-gpl --disable-stripping --enable-avresample --disable-filter=resample --enable-avisynth --enable-gnutls --enable-ladspa --enable-libaom --enable-libass --enable-libbluray --enable-libbs2b --enable-libcaca --enable-libcdio --enable-libcodec2 --enable-libflite --enable-libfontconfig --enable-libfreetype --enable-libfribidi --enable-libgme --enable-libgsm --enable-libjack --enable-libmp3lame --enable-libmysofa --enable-libopenjpeg --enable-libopenmpt --enable-libopus --enable-libpulse --enable-librsvg --enable-librubberband --enable-libshine --enable-libsnappy --enable-libsoxr --enable-libspeex --enable-libssh --enable-libtheora --enable-libtwolame --enable-libvidstab --enable-libvorbis --enable-libvpx --enable-libwavpack --enable-libwebp --enable-libx265 --enable-libxml2 --enable-libxvid --enable-libzmq --enable-libzvbi --enable-lv2 --enable-omx --enable-openal --enable-opengl --enable-sdl2 --enable-libdc1394 --enable-libdrm --enable-libiec61883 --enable-chromaprint --enable-frei0r --enable-libx264 --enable-shared\n",
      "  libavutil      56. 22.100 / 56. 22.100\n",
      "  libavcodec     58. 35.100 / 58. 35.100\n",
      "  libavformat    58. 20.100 / 58. 20.100\n",
      "  libavdevice    58.  5.100 / 58.  5.100\n",
      "  libavfilter     7. 40.101 /  7. 40.101\n",
      "  libavresample   4.  0.  0 /  4.  0.  0\n",
      "  libswscale      5.  3.100 /  5.  3.100\n",
      "  libswresample   3.  3.100 /  3.  3.100\n",
      "  libpostproc    55.  3.100 / 55.  3.100\n",
      "\u001b[0;35m[mov,mp4,m4a,3gp,3g2,mj2 @ 0x55ea807bb800] \u001b[0m\u001b[0;33mst: 1 edit list: 1 Missing key frame while searching for timestamp: 0\n",
      "\u001b[0m\u001b[0;35m[mov,mp4,m4a,3gp,3g2,mj2 @ 0x55ea807bb800] \u001b[0m\u001b[0;33mst: 1 edit list 1 Cannot find an index entry before timestamp: 0.\n",
      "\u001b[0mInput #0, mov,mp4,m4a,3gp,3g2,mj2, from './YP183A Sweeper Front Cam-16Feb_Correct.mp4':\n",
      "  Metadata:\n",
      "    major_brand     : isom\n",
      "    minor_version   : 0\n",
      "    compatible_brands: mp41avc1\n",
      "    creation_time   : 2022-08-25T07:44:23.000000Z\n",
      "    encoder         : vlc 3.0.16 stream output\n",
      "    encoder-eng     : vlc 3.0.16 stream output\n",
      "  Duration: 00:15:22.13, start: 0.000000, bitrate: 4666 kb/s\n",
      "    Stream #0:0(eng): Audio: mp3 (mp4a / 0x6134706D), 44100 Hz, stereo, fltp, 127 kb/s (default)\n",
      "    Metadata:\n",
      "      creation_time   : 2022-08-25T07:44:23.000000Z\n",
      "      handler_name    : SoundHandler\n",
      "    Stream #0:1(eng): Video: h264 (High) (avc1 / 0x31637661), yuv420p, 1920x1080 [SAR 1:1 DAR 16:9], 8163 kb/s, 9.99 fps, 29.97 tbr, 1000k tbn, 19.98 tbc (default)\n",
      "    Metadata:\n",
      "      creation_time   : 2022-08-25T07:44:23.000000Z\n",
      "      handler_name    : VideoHandler\n",
      "Stream mapping:\n",
      "  Stream #0:1 -> #0:0 (h264 (native) -> h264 (libx264))\n",
      "  Stream #0:0 -> #0:1 (mp3 (mp3float) -> aac (native))\n",
      "Press [q] to stop, [?] for help\n",
      "\u001b[1;36m[libx264 @ 0x55ea807c1380] \u001b[0musing SAR=1/1\n",
      "\u001b[1;36m[libx264 @ 0x55ea807c1380] \u001b[0musing cpu capabilities: MMX2 SSE2Fast SSSE3 SSE4.2 AVX FMA3 BMI2 AVX2\n",
      "\u001b[1;36m[libx264 @ 0x55ea807c1380] \u001b[0mprofile High, level 4.0\n",
      "\u001b[1;36m[libx264 @ 0x55ea807c1380] \u001b[0m264 - core 155 r2917 0a84d98 - H.264/MPEG-4 AVC codec - Copyleft 2003-2018 - http://www.videolan.org/x264.html - options: cabac=1 ref=3 deblock=1:0:0 analyse=0x3:0x113 me=hex subme=7 psy=1 psy_rd=1.00:0.00 mixed_ref=1 me_range=16 chroma_me=1 trellis=1 8x8dct=1 cqm=0 deadzone=21,11 fast_pskip=1 chroma_qp_offset=-2 threads=6 lookahead_threads=1 sliced_threads=0 nr=0 decimate=1 interlaced=0 bluray_compat=0 constrained_intra=0 bframes=3 b_pyramid=2 b_adapt=1 b_bias=0 direct=1 weightb=1 open_gop=0 weightp=2 keyint=250 keyint_min=3 scenecut=40 intra_refresh=0 rc_lookahead=40 rc=crf mbtree=1 crf=23.0 qcomp=0.60 qpmin=0 qpmax=69 qpstep=4 ip_ratio=1.40 aq=1:1.00\n",
      "Output #0, mp4, to 'output_16feb_fr3.mp4':\n",
      "  Metadata:\n",
      "    major_brand     : isom\n",
      "    minor_version   : 0\n",
      "    compatible_brands: mp41avc1\n",
      "    encoder         : Lavf58.20.100\n",
      "    Stream #0:0(eng): Video: h264 (libx264) (avc1 / 0x31637661), yuv420p, 1920x1080 [SAR 1:1 DAR 16:9], q=-1--1, 3 fps, 12288 tbn, 3 tbc (default)\n",
      "    Metadata:\n",
      "      creation_time   : 2022-08-25T07:44:23.000000Z\n",
      "      handler_name    : VideoHandler\n",
      "      encoder         : Lavc58.35.100 libx264\n",
      "    Side data:\n",
      "      cpb: bitrate max/min/avg: 0/0/0 buffer size: 0 vbv_delay: -1\n",
      "    Stream #0:1(eng): Audio: aac (LC) (mp4a / 0x6134706D), 44100 Hz, stereo, fltp, 128 kb/s (default)\n",
      "    Metadata:\n",
      "      creation_time   : 2022-08-25T07:44:23.000000Z\n",
      "      handler_name    : SoundHandler\n",
      "      encoder         : Lavc58.35.100 aac\n",
      "\u001b[0;33m./YP183A Sweeper Front Cam-16Feb_Correct.mp4: corrupt input packet in stream 1ed=2.56x    \n",
      "\u001b[0m\u001b[0;36m[h264 @ 0x55ea8097b500] \u001b[0m\u001b[1;31mInvalid NAL unit size (109944 > 57298).\n",
      "\u001b[0m\u001b[0;36m[h264 @ 0x55ea8097b500] \u001b[0m\u001b[1;31mError splitting the input into NAL units.\n",
      "\u001b[0m\u001b[0;35m[mov,mp4,m4a,3gp,3g2,mj2 @ 0x55ea807bb800] \u001b[0m\u001b[1;31mstream 0, offset 0x2010cf47: partial file\n",
      "\u001b[0m\u001b[1;31m./YP183A Sweeper Front Cam-16Feb_Correct.mp4: Invalid data found when processing input\n",
      "\u001b[0m\u001b[0;35m[mov,mp4,m4a,3gp,3g2,mj2 @ 0x55ea807bb800] \u001b[0m\u001b[1;31mstream 0, offset 0x2010d0e8: partial file\n",
      "\u001b[0m\u001b[1;31m./YP183A Sweeper Front Cam-16Feb_Correct.mp4: Invalid data found when processing input\n",
      "\u001b[0m\u001b[0;35m[mov,mp4,m4a,3gp,3g2,mj2 @ 0x55ea807bb800] \u001b[0m\u001b[1;31mstream 0, offset 0x2010d289: partial file\n",
      "\u001b[0m\u001b[1;31m./YP183A Sweeper Front Cam-16Feb_Correct.mp4: Invalid data found when processing input\n",
      "\u001b[0m\u001b[1;31mError while decoding stream #0:1: Invalid data found when processing input\n",
      "\u001b[0m\u001b[0;35m[mov,mp4,m4a,3gp,3g2,mj2 @ 0x55ea807bb800] \u001b[0m\u001b[1;31mstream 1, offset 0x2010d42a: partial file\n",
      "\u001b[0m\u001b[1;31m./YP183A Sweeper Front Cam-16Feb_Correct.mp4: Invalid data found when processing input\n",
      "\u001b[0m\u001b[0;35m[mov,mp4,m4a,3gp,3g2,mj2 @ 0x55ea807bb800] \u001b[0m\u001b[1;31mstream 0, offset 0x2011cd4d: partial file\n",
      "\u001b[0m\u001b[1;31m./YP183A Sweeper Front Cam-16Feb_Correct.mp4: Invalid data found when processing input\n",
      "frame= 1530 fps=7.5 q=-1.0 Lsize=  258675kB time=00:08:29.67 bitrate=4157.7kbits/s speed=2.51x       \n",
      "video:250331kB audio:8105kB subtitle:0kB other streams:0kB global headers:0kB muxing overhead: 0.092902%\n",
      "\u001b[1;36m[libx264 @ 0x55ea807c1380] \u001b[0mframe I:399   Avg QP:17.21  size:220557\n",
      "\u001b[1;36m[libx264 @ 0x55ea807c1380] \u001b[0mframe P:778   Avg QP:19.60  size:154169\n",
      "\u001b[1;36m[libx264 @ 0x55ea807c1380] \u001b[0mframe B:353   Avg QP:20.34  size:137090\n",
      "\u001b[1;36m[libx264 @ 0x55ea807c1380] \u001b[0mconsecutive B-frames: 58.2% 32.3%  2.7%  6.8%\n",
      "\u001b[1;36m[libx264 @ 0x55ea807c1380] \u001b[0mmb I  I16..4:  5.8% 58.3% 35.8%\n",
      "\u001b[1;36m[libx264 @ 0x55ea807c1380] \u001b[0mmb P  I16..4:  4.9% 58.2% 24.2%  P16..4:  5.5%  4.1%  1.5%  0.0%  0.0%    skip: 1.5%\n",
      "\u001b[1;36m[libx264 @ 0x55ea807c1380] \u001b[0mmb B  I16..4:  3.2% 36.4% 21.4%  B16..8: 16.8%  9.2%  2.9%  direct: 3.3%  skip: 6.8%  L0:46.4% L1:44.6% BI: 9.0%\n",
      "\u001b[1;36m[libx264 @ 0x55ea807c1380] \u001b[0m8x8 transform intra:62.9% inter:55.7%\n",
      "\u001b[1;36m[libx264 @ 0x55ea807c1380] \u001b[0mcoded y,uvDC,uvAC intra: 87.7% 63.9% 28.7% inter: 49.5% 39.3% 3.4%\n",
      "\u001b[1;36m[libx264 @ 0x55ea807c1380] \u001b[0mi16 v,h,dc,p: 14% 38% 15% 33%\n",
      "\u001b[1;36m[libx264 @ 0x55ea807c1380] \u001b[0mi8 v,h,dc,ddl,ddr,vr,hd,vl,hu: 23% 26% 11%  5%  6%  7%  7%  7%  9%\n",
      "\u001b[1;36m[libx264 @ 0x55ea807c1380] \u001b[0mi4 v,h,dc,ddl,ddr,vr,hd,vl,hu: 30% 26% 10%  5%  6%  6%  6%  6%  6%\n",
      "\u001b[1;36m[libx264 @ 0x55ea807c1380] \u001b[0mi8c dc,h,v,p: 39% 31% 20% 10%\n",
      "\u001b[1;36m[libx264 @ 0x55ea807c1380] \u001b[0mWeighted P-Frames: Y:9.9% UV:7.1%\n",
      "\u001b[1;36m[libx264 @ 0x55ea807c1380] \u001b[0mref P L0: 77.9%  8.7%  6.3%  4.2%  2.7%\n",
      "\u001b[1;36m[libx264 @ 0x55ea807c1380] \u001b[0mref B L0: 94.5%  3.8%  1.7%\n",
      "\u001b[1;36m[libx264 @ 0x55ea807c1380] \u001b[0mref B L1: 99.1%  0.9%\n",
      "\u001b[1;36m[libx264 @ 0x55ea807c1380] \u001b[0mkb/s:4020.99\n",
      "\u001b[1;36m[aac @ 0x55ea8087fc40] \u001b[0mQavg: 1566.881\n"
     ]
    }
   ],
   "source": [
    "# !ffmpeg -i output.mp4 -filter:v fps=3 output_fr1.mp4 -y\n",
    "\n",
    "\n",
    "#YP183A Sweeper Front Cam-16Feb_Correct\n",
    "\n",
    "# !ffmpeg -i ./YP183A\\ Sweeper\\ Front\\ Cam-16Feb_Correct.mp4 -filter:v fps=3 output_16feb_fr3.mp4 -y\n",
    "\n"
   ]
  },
  {
   "cell_type": "code",
   "execution_count": 9,
   "id": "c286519a-8fd5-4016-982e-d1d3e0a02765",
   "metadata": {},
   "outputs": [
    {
     "name": "stdout",
     "output_type": "stream",
     "text": [
      "ffmpeg version 4.1.9-0+deb10u1 Copyright (c) 2000-2022 the FFmpeg developers\n",
      "  built with gcc 8 (Debian 8.3.0-6)\n",
      "  configuration: --prefix=/usr --extra-version=0+deb10u1 --toolchain=hardened --libdir=/usr/lib/x86_64-linux-gnu --incdir=/usr/include/x86_64-linux-gnu --arch=amd64 --enable-gpl --disable-stripping --enable-avresample --disable-filter=resample --enable-avisynth --enable-gnutls --enable-ladspa --enable-libaom --enable-libass --enable-libbluray --enable-libbs2b --enable-libcaca --enable-libcdio --enable-libcodec2 --enable-libflite --enable-libfontconfig --enable-libfreetype --enable-libfribidi --enable-libgme --enable-libgsm --enable-libjack --enable-libmp3lame --enable-libmysofa --enable-libopenjpeg --enable-libopenmpt --enable-libopus --enable-libpulse --enable-librsvg --enable-librubberband --enable-libshine --enable-libsnappy --enable-libsoxr --enable-libspeex --enable-libssh --enable-libtheora --enable-libtwolame --enable-libvidstab --enable-libvorbis --enable-libvpx --enable-libwavpack --enable-libwebp --enable-libx265 --enable-libxml2 --enable-libxvid --enable-libzmq --enable-libzvbi --enable-lv2 --enable-omx --enable-openal --enable-opengl --enable-sdl2 --enable-libdc1394 --enable-libdrm --enable-libiec61883 --enable-chromaprint --enable-frei0r --enable-libx264 --enable-shared\n",
      "  libavutil      56. 22.100 / 56. 22.100\n",
      "  libavcodec     58. 35.100 / 58. 35.100\n",
      "  libavformat    58. 20.100 / 58. 20.100\n",
      "  libavdevice    58.  5.100 / 58.  5.100\n",
      "  libavfilter     7. 40.101 /  7. 40.101\n",
      "  libavresample   4.  0.  0 /  4.  0.  0\n",
      "  libswscale      5.  3.100 /  5.  3.100\n",
      "  libswresample   3.  3.100 /  3.  3.100\n",
      "  libpostproc    55.  3.100 / 55.  3.100\n",
      "\u001b[0;35m[mov,mp4,m4a,3gp,3g2,mj2 @ 0x55bb20679800] \u001b[0m\u001b[0;33mst: 1 edit list: 1 Missing key frame while searching for timestamp: 0\n",
      "\u001b[0m\u001b[0;35m[mov,mp4,m4a,3gp,3g2,mj2 @ 0x55bb20679800] \u001b[0m\u001b[0;33mst: 1 edit list 1 Cannot find an index entry before timestamp: 0.\n",
      "\u001b[0mInput #0, mov,mp4,m4a,3gp,3g2,mj2, from './YP183A Sweeper Front Cam-22Feb_Correct.mp4':\n",
      "  Metadata:\n",
      "    major_brand     : isom\n",
      "    minor_version   : 0\n",
      "    compatible_brands: mp41avc1\n",
      "    creation_time   : 2022-08-25T07:59:34.000000Z\n",
      "    encoder         : vlc 3.0.16 stream output\n",
      "    encoder-eng     : vlc 3.0.16 stream output\n",
      "  Duration: 00:15:05.80, start: 0.000000, bitrate: 4408 kb/s\n",
      "    Stream #0:0(eng): Audio: mp3 (mp4a / 0x6134706D), 44100 Hz, stereo, fltp, 127 kb/s (default)\n",
      "    Metadata:\n",
      "      creation_time   : 2022-08-25T07:59:34.000000Z\n",
      "      handler_name    : SoundHandler\n",
      "    Stream #0:1(eng): Video: h264 (High) (avc1 / 0x31637661), yuv420p, 1920x1080 [SAR 1:1 DAR 16:9], 8251 kb/s, 10 fps, 10 tbr, 90k tbn, 20 tbc (default)\n",
      "    Metadata:\n",
      "      creation_time   : 2022-08-25T07:59:34.000000Z\n",
      "      handler_name    : VideoHandler\n",
      "Stream mapping:\n",
      "  Stream #0:1 -> #0:0 (h264 (native) -> h264 (libx264))\n",
      "  Stream #0:0 -> #0:1 (mp3 (mp3float) -> aac (native))\n",
      "Press [q] to stop, [?] for help\n",
      "\u001b[1;36m[libx264 @ 0x55bb206b79c0] \u001b[0musing SAR=1/1\n",
      "\u001b[1;36m[libx264 @ 0x55bb206b79c0] \u001b[0musing cpu capabilities: MMX2 SSE2Fast SSSE3 SSE4.2 AVX FMA3 BMI2 AVX2\n",
      "\u001b[1;36m[libx264 @ 0x55bb206b79c0] \u001b[0mprofile High, level 4.0\n",
      "\u001b[1;36m[libx264 @ 0x55bb206b79c0] \u001b[0m264 - core 155 r2917 0a84d98 - H.264/MPEG-4 AVC codec - Copyleft 2003-2018 - http://www.videolan.org/x264.html - options: cabac=1 ref=3 deblock=1:0:0 analyse=0x3:0x113 me=hex subme=7 psy=1 psy_rd=1.00:0.00 mixed_ref=1 me_range=16 chroma_me=1 trellis=1 8x8dct=1 cqm=0 deadzone=21,11 fast_pskip=1 chroma_qp_offset=-2 threads=6 lookahead_threads=1 sliced_threads=0 nr=0 decimate=1 interlaced=0 bluray_compat=0 constrained_intra=0 bframes=3 b_pyramid=2 b_adapt=1 b_bias=0 direct=1 weightb=1 open_gop=0 weightp=2 keyint=250 keyint_min=3 scenecut=40 intra_refresh=0 rc_lookahead=40 rc=crf mbtree=1 crf=23.0 qcomp=0.60 qpmin=0 qpmax=69 qpstep=4 ip_ratio=1.40 aq=1:1.00\n",
      "Output #0, mp4, to 'output_22feb_fr3.mp4':\n",
      "  Metadata:\n",
      "    major_brand     : isom\n",
      "    minor_version   : 0\n",
      "    compatible_brands: mp41avc1\n",
      "    encoder         : Lavf58.20.100\n",
      "    Stream #0:0(eng): Video: h264 (libx264) (avc1 / 0x31637661), yuv420p, 1920x1080 [SAR 1:1 DAR 16:9], q=-1--1, 3 fps, 12288 tbn, 3 tbc (default)\n",
      "    Metadata:\n",
      "      creation_time   : 2022-08-25T07:59:34.000000Z\n",
      "      handler_name    : VideoHandler\n",
      "      encoder         : Lavc58.35.100 libx264\n",
      "    Side data:\n",
      "      cpb: bitrate max/min/avg: 0/0/0 buffer size: 0 vbv_delay: -1\n",
      "    Stream #0:1(eng): Audio: aac (LC) (mp4a / 0x6134706D), 44100 Hz, stereo, fltp, 128 kb/s (default)\n",
      "    Metadata:\n",
      "      creation_time   : 2022-08-25T07:59:34.000000Z\n",
      "      handler_name    : SoundHandler\n",
      "      encoder         : Lavc58.35.100 aac\n",
      "\u001b[0;33m./YP183A Sweeper Front Cam-22Feb_Correct.mp4: corrupt input packet in stream 1ed= 2.6x    \n",
      "\u001b[0m\u001b[0;36m[h264 @ 0x55bb208a7780] \u001b[0m\u001b[1;31mInvalid NAL unit size (87314 > 39376).\n",
      "\u001b[0m\u001b[0;36m[h264 @ 0x55bb208a7780] \u001b[0m\u001b[1;31mError splitting the input into NAL units.\n",
      "\u001b[0m\u001b[0;35m[mov,mp4,m4a,3gp,3g2,mj2 @ 0x55bb20679800] \u001b[0m\u001b[1;31mstream 0, offset 0x1dc0bce3: partial file\n",
      "\u001b[0m\u001b[1;31m./YP183A Sweeper Front Cam-22Feb_Correct.mp4: Invalid data found when processing input\n",
      "\u001b[0m\u001b[0;35m[mov,mp4,m4a,3gp,3g2,mj2 @ 0x55bb20679800] \u001b[0m\u001b[1;31mstream 0, offset 0x1dc0be84: partial file\n",
      "\u001b[0m\u001b[1;31m./YP183A Sweeper Front Cam-22Feb_Correct.mp4: Invalid data found when processing input\n",
      "\u001b[0m\u001b[0;35m[mov,mp4,m4a,3gp,3g2,mj2 @ 0x55bb20679800] \u001b[0m\u001b[1;31mstream 1, offset 0x1dc0c025: partial file\n",
      "\u001b[0m\u001b[1;31m./YP183A Sweeper Front Cam-22Feb_Correct.mp4: Invalid data found when processing input\n",
      "\u001b[0m\u001b[1;31mError while decoding stream #0:1: Invalid data found when processing input\n",
      "\u001b[0m\u001b[0;35m[mov,mp4,m4a,3gp,3g2,mj2 @ 0x55bb20679800] \u001b[0m\u001b[1;31mstream 0, offset 0x1dc20ff9: partial file\n",
      "\u001b[0m\u001b[1;31m./YP183A Sweeper Front Cam-22Feb_Correct.mp4: Invalid data found when processing input\n",
      "\u001b[0m\u001b[0;35m[mov,mp4,m4a,3gp,3g2,mj2 @ 0x55bb20679800] \u001b[0m\u001b[1;31mstream 0, offset 0x1dc2119a: partial file\n",
      "\u001b[0m\u001b[1;31m./YP183A Sweeper Front Cam-22Feb_Correct.mp4: Invalid data found when processing input\n",
      "frame= 1475 fps=7.6 q=-1.0 Lsize=  266503kB time=00:08:11.32 bitrate=4443.5kbits/s speed=2.54x       \n",
      "video:258485kB audio:7788kB subtitle:0kB other streams:0kB global headers:0kB muxing overhead: 0.086445%\n",
      "\u001b[1;36m[libx264 @ 0x55bb206b79c0] \u001b[0mframe I:352   Avg QP:17.85  size:237955\n",
      "\u001b[1;36m[libx264 @ 0x55bb206b79c0] \u001b[0mframe P:812   Avg QP:19.51  size:174298\n",
      "\u001b[1;36m[libx264 @ 0x55bb206b79c0] \u001b[0mframe B:311   Avg QP:20.90  size:126682\n",
      "\u001b[1;36m[libx264 @ 0x55bb206b79c0] \u001b[0mconsecutive B-frames: 62.7% 24.9%  7.7%  4.6%\n",
      "\u001b[1;36m[libx264 @ 0x55bb206b79c0] \u001b[0mmb I  I16..4:  9.2% 54.3% 36.4%\n",
      "\u001b[1;36m[libx264 @ 0x55bb206b79c0] \u001b[0mmb P  I16..4:  5.2% 52.4% 24.8%  P16..4:  7.1%  5.6%  2.4%  0.0%  0.0%    skip: 2.5%\n",
      "\u001b[1;36m[libx264 @ 0x55bb206b79c0] \u001b[0mmb B  I16..4:  2.7% 24.9% 15.7%  B16..8: 26.8% 10.0%  4.6%  direct: 4.0%  skip:11.4%  L0:50.4% L1:42.5% BI: 7.1%\n",
      "\u001b[1;36m[libx264 @ 0x55bb206b79c0] \u001b[0m8x8 transform intra:60.1% inter:47.0%\n",
      "\u001b[1;36m[libx264 @ 0x55bb206b79c0] \u001b[0mcoded y,uvDC,uvAC intra: 88.6% 53.1% 20.5% inter: 49.1% 35.9% 2.7%\n",
      "\u001b[1;36m[libx264 @ 0x55bb206b79c0] \u001b[0mi16 v,h,dc,p: 11% 31% 25% 32%\n",
      "\u001b[1;36m[libx264 @ 0x55bb206b79c0] \u001b[0mi8 v,h,dc,ddl,ddr,vr,hd,vl,hu: 22% 25% 13%  5%  6%  7%  7%  7%  8%\n",
      "\u001b[1;36m[libx264 @ 0x55bb206b79c0] \u001b[0mi4 v,h,dc,ddl,ddr,vr,hd,vl,hu: 29% 24% 12%  5%  6%  6%  6%  6%  6%\n",
      "\u001b[1;36m[libx264 @ 0x55bb206b79c0] \u001b[0mi8c dc,h,v,p: 43% 30% 18%  9%\n",
      "\u001b[1;36m[libx264 @ 0x55bb206b79c0] \u001b[0mWeighted P-Frames: Y:7.8% UV:3.8%\n",
      "\u001b[1;36m[libx264 @ 0x55bb206b79c0] \u001b[0mref P L0: 72.1% 10.7%  8.3%  5.6%  3.3%\n",
      "\u001b[1;36m[libx264 @ 0x55bb206b79c0] \u001b[0mref B L0: 94.8%  3.7%  1.5%\n",
      "\u001b[1;36m[libx264 @ 0x55bb206b79c0] \u001b[0mref B L1: 99.3%  0.7%\n",
      "\u001b[1;36m[libx264 @ 0x55bb206b79c0] \u001b[0mkb/s:4306.78\n",
      "\u001b[1;36m[aac @ 0x55bb206b8d40] \u001b[0mQavg: 658.542\n"
     ]
    }
   ],
   "source": [
    "!ffmpeg -i ./YP183A\\ Sweeper\\ Front\\ Cam-22Feb_Correct.mp4 -filter:v fps=3 output_22feb_fr3.mp4 -y\n"
   ]
  },
  {
   "cell_type": "markdown",
   "id": "9b750aca-bc4b-48c5-9d8a-e2c0497affa9",
   "metadata": {
    "tags": []
   },
   "source": [
    "### !ffmpeg -y -r 1 -i output.mp4 output_fr1.mp4\n"
   ]
  },
  {
   "cell_type": "code",
   "execution_count": 2,
   "id": "bfaf5654-3e89-41d5-a9aa-eb7b8b2b6d1d",
   "metadata": {},
   "outputs": [
    {
     "name": "stdout",
     "output_type": "stream",
     "text": [
      " Video_processing.ipynb\t\t\t      'frame 4.0 sec.jpg'\n",
      " Video_processing_base.ipynb\t\t      'frame 4.5 sec.jpg'\n",
      "'YP183A Sweeper Front Cam-16Feb_Correct.mp4'  'frame 5.0 sec.jpg'\n",
      "'YP183A Sweeper Front Cam-22Feb_Correct.mp4'  'frame 5.5 sec.jpg'\n",
      " data\t\t\t\t\t      'frame 6.0 sec.jpg'\n",
      " filename.mp4\t\t\t\t      'frame 6.5 sec.jpg'\n",
      "'frame 0 sec.jpg'\t\t\t      'frame 7.0 sec.jpg'\n",
      "'frame 0.5 sec.jpg'\t\t\t      'frame 7.5 sec.jpg'\n",
      "'frame 1.0 sec.jpg'\t\t\t       output.mp4\n",
      "'frame 1.5 sec.jpg'\t\t\t       output2.mp4\n",
      "'frame 2.0 sec.jpg'\t\t\t       output3.mp4\n",
      "'frame 2.5 sec.jpg'\t\t\t       output_fr1.mp4\n",
      "'frame 3.0 sec.jpg'\t\t\t       untitled.txt\n",
      "'frame 3.5 sec.jpg'\n"
     ]
    }
   ],
   "source": [
    "!ls"
   ]
  },
  {
   "cell_type": "markdown",
   "id": "db9a98c5-2975-414a-a8b5-ac6889376d36",
   "metadata": {},
   "source": [
    "## Convert all the video to frames \n"
   ]
  },
  {
   "cell_type": "code",
   "execution_count": 2,
   "id": "b208786f-0a7f-4176-b3c7-bd22ec2b0008",
   "metadata": {},
   "outputs": [],
   "source": [
    "import os\n",
    "os.chdir('./helmet_img')"
   ]
  },
  {
   "cell_type": "code",
   "execution_count": 3,
   "id": "b79de14f-cda5-4351-b1f2-e9e44b0a4c31",
   "metadata": {
    "scrolled": true,
    "tags": []
   },
   "outputs": [
    {
     "name": "stdout",
     "output_type": "stream",
     "text": [
      "ffmpeg version 4.1.10-0+deb10u1 Copyright (c) 2000-2022 the FFmpeg developers\n",
      "  built with gcc 8 (Debian 8.3.0-6)\n",
      "  configuration: --prefix=/usr --extra-version=0+deb10u1 --toolchain=hardened --libdir=/usr/lib/x86_64-linux-gnu --incdir=/usr/include/x86_64-linux-gnu --arch=amd64 --enable-gpl --disable-stripping --enable-avresample --disable-filter=resample --enable-avisynth --enable-gnutls --enable-ladspa --enable-libaom --enable-libass --enable-libbluray --enable-libbs2b --enable-libcaca --enable-libcdio --enable-libcodec2 --enable-libflite --enable-libfontconfig --enable-libfreetype --enable-libfribidi --enable-libgme --enable-libgsm --enable-libjack --enable-libmp3lame --enable-libmysofa --enable-libopenjpeg --enable-libopenmpt --enable-libopus --enable-libpulse --enable-librsvg --enable-librubberband --enable-libshine --enable-libsnappy --enable-libsoxr --enable-libspeex --enable-libssh --enable-libtheora --enable-libtwolame --enable-libvidstab --enable-libvorbis --enable-libvpx --enable-libwavpack --enable-libwebp --enable-libx265 --enable-libxml2 --enable-libxvid --enable-libzmq --enable-libzvbi --enable-lv2 --enable-omx --enable-openal --enable-opengl --enable-sdl2 --enable-libdc1394 --enable-libdrm --enable-libiec61883 --enable-chromaprint --enable-frei0r --enable-libx264 --enable-shared\n",
      "  libavutil      56. 22.100 / 56. 22.100\n",
      "  libavcodec     58. 35.100 / 58. 35.100\n",
      "  libavformat    58. 20.100 / 58. 20.100\n",
      "  libavdevice    58.  5.100 / 58.  5.100\n",
      "  libavfilter     7. 40.101 /  7. 40.101\n",
      "  libavresample   4.  0.  0 /  4.  0.  0\n",
      "  libswscale      5.  3.100 /  5.  3.100\n",
      "  libswresample   3.  3.100 /  3.  3.100\n",
      "  libpostproc    55.  3.100 / 55.  3.100\n",
      "Input #0, mov,mp4,m4a,3gp,3g2,mj2, from 'lyw_cam1_with_pii_H265.mp4':\n",
      "  Metadata:\n",
      "    major_brand     : isom\n",
      "    minor_version   : 0\n",
      "    compatible_brands: mp41avc1\n",
      "    creation_time   : 2023-01-12T09:28:22.000000Z\n",
      "    encoder         : vlc 3.0.18 stream output\n",
      "    encoder-eng     : vlc 3.0.18 stream output\n",
      "  Duration: 00:04:11.88, start: 0.000000, bitrate: 304 kb/s\n",
      "    Stream #0:0(eng): Video: hevc (Main) (hev1 / 0x31766568), yuvj420p(pc, bt709), 1280x720 [SAR 1:1 DAR 16:9], 303 kb/s, 9.97 fps, 30 tbr, 1000k tbn, 30 tbc (default)\n",
      "    Metadata:\n",
      "      creation_time   : 2023-01-12T09:28:22.000000Z\n",
      "      handler_name    : VideoHandler\n",
      "Stream mapping:\n",
      "  Stream #0:0 -> #0:0 (hevc (native) -> png (native))\n",
      "Press [q] to stop, [?] for help\n",
      "\u001b[1;34m[swscaler @ 0x5607e77dd940] \u001b[0m\u001b[0;33mdeprecated pixel format used, make sure you did set range correctly\n",
      "\u001b[0mOutput #0, image2, to '%04d.png':\n",
      "  Metadata:\n",
      "    major_brand     : isom\n",
      "    minor_version   : 0\n",
      "    compatible_brands: mp41avc1\n",
      "    encoder         : Lavf58.20.100\n",
      "    Stream #0:0(eng): Video: png, rgb24, 1280x720 [SAR 1:1 DAR 16:9], q=2-31, 200 kb/s, 30 fps, 30 tbn, 30 tbc (default)\n",
      "    Metadata:\n",
      "      creation_time   : 2023-01-12T09:28:22.000000Z\n",
      "      handler_name    : VideoHandler\n",
      "      encoder         : Lavc58.35.100 png\n",
      "\u001b[0;33mMore than 1000 frames duplicatede=00:00:49.06 bitrate=N/A dup=990 drop=0 speed=0.743x    \n",
      "frame= 7554 fps= 22 q=-0.0 Lsize=N/A time=00:04:11.80 bitrate=N/A dup=5042 drop=0 speed=0.725x       \n",
      "video:11171188kB audio:0kB subtitle:0kB other streams:0kB global headers:0kB muxing overhead: unknown\n"
     ]
    }
   ],
   "source": [
    "!ffmpeg -i lyw_cam1_with_pii_H265.mp4 '%04d.png'\n"
   ]
  },
  {
   "cell_type": "code",
   "execution_count": null,
   "id": "71080be7-6446-4f66-9434-b1ef59aec2a9",
   "metadata": {},
   "outputs": [],
   "source": [
    "# !ffmpeg -i lyw_cam1_with_pii_H265.avi -vf fps=1/60 img%03d.jpg\n"
   ]
  },
  {
   "cell_type": "code",
   "execution_count": null,
   "id": "3e0684bd-66d0-419d-9d75-7ac97e092ea3",
   "metadata": {},
   "outputs": [],
   "source": []
  },
  {
   "cell_type": "code",
   "execution_count": null,
   "id": "a6e00d5d-3561-4ea5-a1b1-ea9d4abb893c",
   "metadata": {},
   "outputs": [],
   "source": []
  }
 ],
 "metadata": {
  "environment": {
   "kernel": "projectname",
   "name": "tf2-gpu.2-8.m98",
   "type": "gcloud",
   "uri": "gcr.io/deeplearning-platform-release/tf2-gpu.2-8:m98"
  },
  "kernelspec": {
   "display_name": "projectname",
   "language": "python",
   "name": "projectname"
  },
  "language_info": {
   "codemirror_mode": {
    "name": "ipython",
    "version": 3
   },
   "file_extension": ".py",
   "mimetype": "text/x-python",
   "name": "python",
   "nbconvert_exporter": "python",
   "pygments_lexer": "ipython3",
   "version": "3.7.12"
  }
 },
 "nbformat": 4,
 "nbformat_minor": 5
}
