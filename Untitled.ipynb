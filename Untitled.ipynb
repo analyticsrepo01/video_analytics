{
 "cells": [
  {
   "cell_type": "code",
   "execution_count": 1,
   "id": "e6de98fc-07d7-4d9a-9411-eb5cd0b909e1",
   "metadata": {},
   "outputs": [
    {
     "name": "stdout",
     "output_type": "stream",
     "text": [
      "Cloning into 'yolov5'...\n",
      "remote: Enumerating objects: 14978, done.\u001b[K\n",
      "remote: Counting objects: 100% (42/42), done.\u001b[K\n",
      "remote: Compressing objects: 100% (34/34), done.\u001b[K\n",
      "remote: Total 14978 (delta 18), reused 21 (delta 8), pack-reused 14936\u001b[K\n",
      "Receiving objects: 100% (14978/14978), 13.97 MiB | 31.99 MiB/s, done.\n",
      "Resolving deltas: 100% (10282/10282), done.\n",
      "/home/jupyter/video_analytics/yolov5\n"
     ]
    }
   ],
   "source": [
    "\n",
    "!git clone https://github.com/ultralytics/yolov5\n",
    "!pip install -qr yolov5/requirements.txt\n",
    "%cd yolov5\n",
    "\n",
    "import torch\n",
    "from IPython.display import Image, clear_output"
   ]
  },
  {
   "cell_type": "code",
   "execution_count": 2,
   "id": "fc2ceba4-0efc-4ff5-aebe-7283e854ebf9",
   "metadata": {},
   "outputs": [
    {
     "name": "stdout",
     "output_type": "stream",
     "text": [
      "[Errno 2] No such file or directory: '/content'\n",
      "/home/jupyter/video_analytics/yolov5\n",
      "  % Total    % Received % Xferd  Average Speed   Time    Time     Time  Current\n",
      "                                 Dload  Upload   Total   Spent    Left  Speed\n",
      "  0     0    0     0    0     0      0      0 --:--:-- --:--:-- --:--:--     0curl: (6) Could not resolve host: KEY\n",
      "Archive:  roboflow.zip\n",
      "  End-of-central-directory signature not found.  Either this file is not\n",
      "  a zipfile, or it constitutes one disk of a multi-part archive.  In the\n",
      "  latter case the central directory and zipfile comment will be found on\n",
      "  the last disk(s) of this archive.\n",
      "unzip:  cannot find zipfile directory in one of roboflow.zip or\n",
      "        roboflow.zip.zip, and cannot find roboflow.zip.ZIP, period.\n"
     ]
    }
   ],
   "source": [
    "%cd /content\n",
    "!curl -L \"KEY\" > roboflow.zip; unzip roboflow.zip; rm roboflow.zip\n"
   ]
  },
  {
   "cell_type": "code",
   "execution_count": 3,
   "id": "0930a827-6fed-418e-add2-a62624f9ef2f",
   "metadata": {},
   "outputs": [
    {
     "name": "stdout",
     "output_type": "stream",
     "text": [
      "cat: data.yaml: No such file or directory\n"
     ]
    }
   ],
   "source": [
    "%cat data.yaml\n"
   ]
  },
  {
   "cell_type": "code",
   "execution_count": 5,
   "id": "0ee2499b-27cd-47fa-9123-90ddd70ae556",
   "metadata": {},
   "outputs": [
    {
     "name": "stdout",
     "output_type": "stream",
     "text": [
      "/home/jupyter/video_analytics/yolov5\n"
     ]
    }
   ],
   "source": [
    "!pwd\n"
   ]
  },
  {
   "cell_type": "code",
   "execution_count": null,
   "id": "a2c4912b-dc6e-49af-bc4b-8e9f1b9bcb7f",
   "metadata": {},
   "outputs": [],
   "source": []
  }
 ],
 "metadata": {
  "environment": {
   "kernel": "python3",
   "name": "tf2-gpu.2-8.m98",
   "type": "gcloud",
   "uri": "gcr.io/deeplearning-platform-release/tf2-gpu.2-8:m98"
  },
  "kernelspec": {
   "display_name": "Python 3",
   "language": "python",
   "name": "python3"
  },
  "language_info": {
   "codemirror_mode": {
    "name": "ipython",
    "version": 3
   },
   "file_extension": ".py",
   "mimetype": "text/x-python",
   "name": "python",
   "nbconvert_exporter": "python",
   "pygments_lexer": "ipython3",
   "version": "3.7.12"
  }
 },
 "nbformat": 4,
 "nbformat_minor": 5
}
