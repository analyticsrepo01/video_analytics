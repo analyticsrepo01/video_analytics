{
 "cells": [
  {
   "cell_type": "markdown",
   "id": "fb4a6c19-be50-4a85-9a72-a9ab4b3398e6",
   "metadata": {},
   "source": [
    "## Vision OCR - Quick Solution by Saurabh "
   ]
  },
  {
   "cell_type": "code",
   "execution_count": 4,
   "id": "954c1a06-d8a0-4ff3-8297-c61022001ad4",
   "metadata": {},
   "outputs": [],
   "source": [
    "from typing import Sequence\n",
    "\n",
    "from google.cloud import vision"
   ]
  },
  {
   "cell_type": "code",
   "execution_count": 7,
   "id": "06216220-990a-4536-a276-c482bb9b6b44",
   "metadata": {},
   "outputs": [],
   "source": [
    "def analyze_image_from_uri(\n",
    "    image_uri: str,\n",
    "    feature_types: Sequence,\n",
    ") -> vision.AnnotateImageResponse:\n",
    "    client = vision.ImageAnnotatorClient()\n",
    "\n",
    "    image = vision.Image()\n",
    "    image.source.image_uri = image_uri\n",
    "    features = [vision.Feature(type_=feature_type) for feature_type in feature_types]\n",
    "    request = vision.AnnotateImageRequest(image=image, features=features)\n",
    "\n",
    "    response = client.annotate_image(request=request)\n",
    "\n",
    "    return response\n",
    "\n",
    "\n",
    "def print_labels(response: vision.AnnotateImageResponse):\n",
    "    print(\"=\" * 80)\n",
    "    for label in response.label_annotations:\n",
    "        print(\n",
    "            f\"{label.score:4.0%}\",\n",
    "            f\"{label.description:5}\",\n",
    "            sep=\" | \",\n",
    "        )\n",
    "        "
   ]
  },
  {
   "cell_type": "code",
   "execution_count": 8,
   "id": "3e0684bd-66d0-419d-9d75-7ac97e092ea3",
   "metadata": {},
   "outputs": [],
   "source": [
    "def print_text(response: vision.AnnotateImageResponse):\n",
    "    print(\"=\" * 80)\n",
    "    for annotation in response.text_annotations:\n",
    "        vertices = [f\"({v.x},{v.y})\" for v in annotation.bounding_poly.vertices]\n",
    "        print(\n",
    "            f\"{repr(annotation.description):42}\",\n",
    "            \",\".join(vertices),\n",
    "            sep=\" | \",\n",
    "        )\n",
    "        "
   ]
  },
  {
   "cell_type": "code",
   "execution_count": 10,
   "id": "a6e00d5d-3561-4ea5-a1b1-ea9d4abb893c",
   "metadata": {},
   "outputs": [
    {
     "name": "stdout",
     "output_type": "stream",
     "text": [
      "================================================================================\n",
      "'TCNU 6828457\\nTARE\\nFACAD\\n32.38\\nMY BITLE)\\nwww.\\n247 80\\nPARK IN\\n1937)\\nTINE 35\\nNE OF\\nFOT MEP\\nFAGIA\\nCAI\\nCALU 7712785\\nMEWA\\n1957\\nAS OF\\nPAL\\n2017\\nWUZK\\nDOMY\\nCAUTION\\n31\\nON' | (61,47),(333,47),(333,247),(61,247)\n",
      "'TCNU'                                     | (61,161),(75,155),(78,162),(64,168)\n",
      "'6828457'                                  | (84,150),(115,135),(118,143),(87,157)\n",
      "'TARE'                                     | (70,217),(80,212),(83,218),(73,223)\n",
      "'FACAD'                                    | (71,226),(88,217),(92,224),(75,233)\n",
      "'32.38'                                    | (94,189),(103,185),(105,189),(96,194)\n",
      "'MY'                                       | (120,189),(114,192),(112,189),(118,185)\n",
      "'BITLE'                                    | (110,193),(98,199),(97,195),(108,189)\n",
      "')'                                        | (97,199),(96,199),(94,196),(95,195)\n",
      "'www'                                      | (120,196),(105,204),(103,201),(119,193)\n",
      "'.'                                        | (101,205),(97,207),(96,204),(100,202)\n",
      "'247'                                      | (96,234),(90,237),(87,233),(94,230)\n",
      "'80'                                       | (87,238),(81,241),(78,237),(85,234)\n",
      "'PARK'                                     | (97,206),(108,200),(111,205),(100,211)\n",
      "'IN'                                       | (111,198),(116,195),(119,200),(114,203)\n",
      "'1937'                                     | (124,204),(103,215),(100,211),(122,200)\n",
      "')'                                        | (102,215),(100,216),(98,212),(100,211)\n",
      "'TINE'                                     | (104,214),(112,210),(114,214),(106,218)\n",
      "'35'                                       | (116,208),(120,206),(121,210),(118,212)\n",
      "'NE'                                       | (105,220),(112,216),(114,221),(107,224)\n",
      "'OF'                                       | (116,214),(121,211),(123,215),(118,218)\n",
      "'FOT'                                      | (128,218),(119,223),(117,218),(126,214)\n",
      "'MEP'                                      | (116,224),(106,229),(104,225),(114,220)\n",
      "'FAGIA'                                    | (108,241),(126,230),(130,236),(112,247)\n",
      "'CAI'                                      | (201,103),(225,96),(230,111),(206,118)\n",
      "'CALU'                                     | (282,64),(294,59),(297,67),(285,71)\n",
      "'7712785'                                  | (299,58),(328,47),(330,54),(301,65)\n",
      "'MEWA'                                     | (299,126),(286,131),(284,127),(298,122)\n",
      "'1957'                                     | (318,70),(304,74),(302,67),(316,63)\n",
      "'AS'                                       | (309,102),(313,101),(314,104),(310,106)\n",
      "'OF'                                       | (318,98),(322,97),(323,100),(319,102)\n",
      "'PAL'                                      | (328,104),(315,109),(314,107),(327,102)\n",
      "'2017'                                     | (327,109),(312,115),(311,112),(326,106)\n",
      "'WUZK'                                     | (329,114),(316,120),(314,115),(327,109)\n",
      "'DOMY'                                     | (330,119),(315,125),(313,120),(328,114)\n",
      "'CAUTION'                                  | (316,142),(330,137),(332,141),(318,147)\n",
      "'31'                                       | (334,149),(325,153),(323,148),(332,144)\n",
      "'ON'                                       | (332,156),(325,159),(323,155),(331,152)\n"
     ]
    }
   ],
   "source": [
    "# image_uri = \"gs://cloud-samples-data/vision/ocr/sign.jpg\"\n",
    "\n",
    "image_uri = \"gs://my-project-0004-bucket02/datasets/warehouse_new.jpeg\"\n",
    "features = [vision.Feature.Type.TEXT_DETECTION]\n",
    "\n",
    "response = analyze_image_from_uri(image_uri, features)\n",
    "print_text(response)"
   ]
  },
  {
   "cell_type": "code",
   "execution_count": null,
   "id": "547e0316-3f69-4748-a766-bf408ab67562",
   "metadata": {},
   "outputs": [],
   "source": []
  }
 ],
 "metadata": {
  "environment": {
   "kernel": "projectname",
   "name": "tf2-gpu.2-8.m103",
   "type": "gcloud",
   "uri": "gcr.io/deeplearning-platform-release/tf2-gpu.2-8:m103"
  },
  "kernelspec": {
   "display_name": "projectname",
   "language": "python",
   "name": "projectname"
  },
  "language_info": {
   "codemirror_mode": {
    "name": "ipython",
    "version": 3
   },
   "file_extension": ".py",
   "mimetype": "text/x-python",
   "name": "python",
   "nbconvert_exporter": "python",
   "pygments_lexer": "ipython3",
   "version": "3.7.12"
  }
 },
 "nbformat": 4,
 "nbformat_minor": 5
}
